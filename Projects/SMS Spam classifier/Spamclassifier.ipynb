{
 "cells": [
  {
   "cell_type": "code",
   "execution_count": 1,
   "id": "foreign-excess",
   "metadata": {},
   "outputs": [],
   "source": [
    "import pandas as pd"
   ]
  },
  {
   "cell_type": "code",
   "execution_count": 2,
   "id": "french-saint",
   "metadata": {},
   "outputs": [],
   "source": [
    "#dataset\n",
    "#https://archive.ics.uci.edu/ml/datasets/sms+spam+collection\n",
    "massages = pd.read_csv('./DataSet/SMSSpamCollection.csv', sep='\\t', names=[\"label\", \"message\"])"
   ]
  },
  {
   "cell_type": "code",
   "execution_count": 3,
   "id": "fifty-american",
   "metadata": {},
   "outputs": [],
   "source": [
    "import re\n",
    "import nltk"
   ]
  },
  {
   "cell_type": "code",
   "execution_count": 4,
   "id": "looking-military",
   "metadata": {},
   "outputs": [
    {
     "name": "stderr",
     "output_type": "stream",
     "text": [
      "[nltk_data] Downloading package stopwords to\n",
      "[nltk_data]     C:\\Users\\USER\\AppData\\Roaming\\nltk_data...\n",
      "[nltk_data]   Package stopwords is already up-to-date!\n",
      "[nltk_data] Downloading package wordnet to\n",
      "[nltk_data]     C:\\Users\\USER\\AppData\\Roaming\\nltk_data...\n",
      "[nltk_data]   Package wordnet is already up-to-date!\n"
     ]
    },
    {
     "data": {
      "text/plain": [
       "True"
      ]
     },
     "execution_count": 4,
     "metadata": {},
     "output_type": "execute_result"
    }
   ],
   "source": [
    "nltk.download('stopwords')\n",
    "nltk.download('wordnet')"
   ]
  },
  {
   "cell_type": "code",
   "execution_count": 5,
   "id": "certified-remove",
   "metadata": {},
   "outputs": [],
   "source": [
    "from nltk.stem import WordNetLemmatizer #Lemmalizer\n",
    "from nltk.stem import PorterStemmer #Stemmer\n",
    "from nltk.corpus import stopwords   \n",
    "import re   "
   ]
  },
  {
   "cell_type": "code",
   "execution_count": 6,
   "id": "intellectual-netherlands",
   "metadata": {},
   "outputs": [],
   "source": [
    "ps = PorterStemmer()\n",
    "wn = WordNetLemmatizer()\n",
    "\n",
    "corpus = []"
   ]
  },
  {
   "cell_type": "code",
   "execution_count": 7,
   "id": "bacterial-chile",
   "metadata": {},
   "outputs": [],
   "source": [
    "#apply Lematizatrion and Rermove Stopewords and puntuations\n",
    "for i in range(len(massages)):\n",
    "    review = re.sub('[^a-zA-Z]', ' ', massages['message'][i])\n",
    "    review = review.lower()\n",
    "    review = review.split()\n",
    "    \n",
    "    review = [ wn.lemmatize(word) for word in review if not word in set(stopwords.words('english')) ]\n",
    "    review = ' '.join(review)\n",
    "    corpus.append(review)"
   ]
  },
  {
   "cell_type": "code",
   "execution_count": 8,
   "id": "metropolitan-dominant",
   "metadata": {},
   "outputs": [],
   "source": [
    "#create dependent variable y\n",
    "y = pd.get_dummies(massages['label'])  \n",
    "y = y.iloc[:,1].values "
   ]
  },
  {
   "cell_type": "code",
   "execution_count": 9,
   "id": "breeding-religion",
   "metadata": {},
   "outputs": [],
   "source": [
    "#apply TF-IDF model\n",
    "from sklearn.feature_extraction.text import TfidfVectorizer"
   ]
  },
  {
   "cell_type": "code",
   "execution_count": 26,
   "id": "available-cabin",
   "metadata": {},
   "outputs": [],
   "source": [
    "cv = TfidfVectorizer(max_features=6000, ngram_range=(1,3))\n",
    "X = cv.fit_transform(corpus).toarray()    "
   ]
  },
  {
   "cell_type": "code",
   "execution_count": 27,
   "id": "elegant-banana",
   "metadata": {},
   "outputs": [],
   "source": [
    "#train Test Split\n",
    "from sklearn.model_selection import train_test_split\n",
    "X_train, X_test, y_train, y_test = train_test_split(X, y, test_size = 0.20, random_state = 0)"
   ]
  },
  {
   "cell_type": "code",
   "execution_count": 28,
   "id": "increased-forwarding",
   "metadata": {},
   "outputs": [],
   "source": [
    "#train Test Split\n",
    "from sklearn.model_selection import train_test_split\n",
    "X_train, X_test, y_train, y_test = train_test_split(X, y, test_size = 0.20, random_state = 0)"
   ]
  },
  {
   "cell_type": "code",
   "execution_count": 29,
   "id": "flexible-latter",
   "metadata": {},
   "outputs": [],
   "source": [
    "#creating model for naive_bayes\n",
    "from sklearn.naive_bayes import MultinomialNB\n",
    "spam_detect_model_NB = MultinomialNB().fit(X_train, y_train)"
   ]
  },
  {
   "cell_type": "code",
   "execution_count": 30,
   "id": "massive-tulsa",
   "metadata": {},
   "outputs": [],
   "source": [
    "y_pred_NB = spam_detect_model_NB.predict(X_test) "
   ]
  },
  {
   "cell_type": "code",
   "execution_count": 31,
   "id": "actual-ethics",
   "metadata": {},
   "outputs": [
    {
     "data": {
      "text/plain": [
       "array([[951,   4],\n",
       "       [ 30, 130]], dtype=int64)"
      ]
     },
     "execution_count": 31,
     "metadata": {},
     "output_type": "execute_result"
    }
   ],
   "source": [
    "#confution matrix\n",
    "from sklearn.metrics import confusion_matrix\n",
    "confusion_m_NB = confusion_matrix(y_test, y_pred_NB) \n",
    "confusion_m_NB"
   ]
  },
  {
   "cell_type": "code",
   "execution_count": 32,
   "id": "structural-palestine",
   "metadata": {},
   "outputs": [
    {
     "data": {
      "text/plain": [
       "0.9695067264573991"
      ]
     },
     "execution_count": 32,
     "metadata": {},
     "output_type": "execute_result"
    }
   ],
   "source": [
    "#accurecy\n",
    "from sklearn.metrics import accuracy_score\n",
    "accuracy_NB = accuracy_score(y_test, y_pred_NB)\n",
    "accuracy_NB"
   ]
  },
  {
   "cell_type": "code",
   "execution_count": 33,
   "id": "acknowledged-navigation",
   "metadata": {},
   "outputs": [],
   "source": [
    "#creating model for randomforest\n",
    "from sklearn.ensemble import RandomForestClassifier\n",
    "spam_detect_model_RF = RandomForestClassifier(n_estimators=200,criterion='entropy').fit(X_train, y_train)"
   ]
  },
  {
   "cell_type": "code",
   "execution_count": 34,
   "id": "aggressive-cardiff",
   "metadata": {},
   "outputs": [],
   "source": [
    "y_pred_RF = spam_detect_model_RF.predict(X_test)"
   ]
  },
  {
   "cell_type": "code",
   "execution_count": 35,
   "id": "dynamic-indian",
   "metadata": {},
   "outputs": [
    {
     "data": {
      "text/plain": [
       "array([[955,   0],\n",
       "       [ 21, 139]], dtype=int64)"
      ]
     },
     "execution_count": 35,
     "metadata": {},
     "output_type": "execute_result"
    }
   ],
   "source": [
    "#confution matrix for randomforest\n",
    "confusion_m_RF = confusion_matrix(y_test, y_pred_RF) \n",
    "confusion_m_RF"
   ]
  },
  {
   "cell_type": "code",
   "execution_count": 36,
   "id": "integrated-resource",
   "metadata": {},
   "outputs": [
    {
     "data": {
      "text/plain": [
       "0.9811659192825112"
      ]
     },
     "execution_count": 36,
     "metadata": {},
     "output_type": "execute_result"
    }
   ],
   "source": [
    "#accurecy for randomforest\n",
    "accuracy_RF = accuracy_score(y_test, y_pred_RF)\n",
    "accuracy_RF"
   ]
  },
  {
   "cell_type": "code",
   "execution_count": 37,
   "id": "interested-giant",
   "metadata": {},
   "outputs": [],
   "source": [
    "#creating model for SMV\n",
    "from sklearn import svm\n",
    "spam_detect_model_SVM = svm.SVC(gamma='auto').fit(X_train, y_train)"
   ]
  },
  {
   "cell_type": "code",
   "execution_count": 38,
   "id": "reserved-advocacy",
   "metadata": {},
   "outputs": [],
   "source": [
    "y_pred_SVM = spam_detect_model_SVM.predict(X_test)  "
   ]
  },
  {
   "cell_type": "code",
   "execution_count": 39,
   "id": "bizarre-bullet",
   "metadata": {},
   "outputs": [
    {
     "data": {
      "text/plain": [
       "array([[955,   0],\n",
       "       [160,   0]], dtype=int64)"
      ]
     },
     "execution_count": 39,
     "metadata": {},
     "output_type": "execute_result"
    }
   ],
   "source": [
    "#confution matrix for randomforest\n",
    "confusion_m_SVM = confusion_matrix(y_test, y_pred_SVM) \n",
    "confusion_m_SVM"
   ]
  },
  {
   "cell_type": "code",
   "execution_count": 40,
   "id": "amateur-taxation",
   "metadata": {},
   "outputs": [
    {
     "data": {
      "text/plain": [
       "0.8565022421524664"
      ]
     },
     "execution_count": 40,
     "metadata": {},
     "output_type": "execute_result"
    }
   ],
   "source": [
    "#accurecy for randomforest\n",
    "accuracy_SVM = accuracy_score(y_test, y_pred_SVM)\n",
    "accuracy_SVM"
   ]
  },
  {
   "cell_type": "code",
   "execution_count": null,
   "id": "connected-introduction",
   "metadata": {},
   "outputs": [],
   "source": []
  }
 ],
 "metadata": {
  "kernelspec": {
   "display_name": "Python 3",
   "language": "python",
   "name": "python3"
  },
  "language_info": {
   "codemirror_mode": {
    "name": "ipython",
    "version": 3
   },
   "file_extension": ".py",
   "mimetype": "text/x-python",
   "name": "python",
   "nbconvert_exporter": "python",
   "pygments_lexer": "ipython3",
   "version": "3.6.5"
  }
 },
 "nbformat": 4,
 "nbformat_minor": 5
}
